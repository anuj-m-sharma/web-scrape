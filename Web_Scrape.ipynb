{
  "nbformat": 4,
  "nbformat_minor": 0,
  "metadata": {
    "colab": {
      "name": "Web-Scrape.ipynb",
      "provenance": [],
      "authorship_tag": "ABX9TyP5qIJseGfYM/bD37A4hxpd",
      "include_colab_link": true
    },
    "kernelspec": {
      "name": "python3",
      "display_name": "Python 3"
    },
    "language_info": {
      "name": "python"
    }
  },
  "cells": [
    {
      "cell_type": "markdown",
      "metadata": {
        "id": "view-in-github",
        "colab_type": "text"
      },
      "source": [
        "<a href=\"https://colab.research.google.com/github/anuj-m-sharma/web-scrape/blob/main/Web_Scrape.ipynb\" target=\"_parent\"><img src=\"https://colab.research.google.com/assets/colab-badge.svg\" alt=\"Open In Colab\"/></a>"
      ]
    },
    {
      "cell_type": "markdown",
      "source": [
        "**Web scrape is defined as extracting information from the web pages. urllib.request and BeautifulSoup libraries can be used for performing web scrape. I have reffered the following link: https://en.wikipedia.org/wiki/List_of_largest_companies_in_the_United_States_by_revenue. We parse HTML and store it. We extract values from the table. We retrive the data from table by extracting data from 'tr' and 'td'.**"
      ],
      "metadata": {
        "id": "47s5lutMcx_D"
      }
    },
    {
      "cell_type": "markdown",
      "source": [
        "# Web scraped Google for the companies registered in USA"
      ],
      "metadata": {
        "id": "jkM2e6DgdNPg"
      }
    },
    {
      "cell_type": "code",
      "execution_count": 2,
      "metadata": {
        "id": "05dec6a2"
      },
      "outputs": [],
      "source": [
        "import urllib.request\n",
        "import requests\n",
        "import numpy as np\n",
        "import time\n",
        "from bs4 import BeautifulSoup\n",
        "from urllib.request import urlopen\n",
        "import pandas as pd\n",
        "\n",
        "url = 'https://en.wikipedia.org/wiki/List_of_largest_companies_in_the_United_States_by_revenue'\n",
        "html = urlopen(url) \n",
        "soup = BeautifulSoup(html, 'html.parser')"
      ]
    },
    {
      "cell_type": "code",
      "source": [
        "tables = soup.find_all('table')"
      ],
      "metadata": {
        "id": "QQdw0zcOcQLc"
      },
      "execution_count": 3,
      "outputs": []
    },
    {
      "cell_type": "code",
      "source": [
        "\n",
        "C_name = []\n",
        "I_industry = []\n",
        "\n",
        "for table in tables:\n",
        "    rows = table.find_all('tr')\n",
        "    \n",
        "    for row in rows:\n",
        "        cells = row.find_all('td')\n",
        "        \n",
        "        if len(cells) > 2:\n",
        "            name = cells[1]\n",
        "            C_name.append(name.text.strip())\n",
        "            \n",
        "            country = cells[2]\n",
        "            I_industry.append(country.text.strip())"
      ],
      "metadata": {
        "id": "1qgaMSLucQ1x"
      },
      "execution_count": 4,
      "outputs": []
    },
    {
      "cell_type": "code",
      "source": [
        "df1 = pd.DataFrame(I_industry,C_name)\n",
        "\n",
        "df1.columns = ['Industry Type']\n",
        "df1"
      ],
      "metadata": {
        "colab": {
          "base_uri": "https://localhost:8080/",
          "height": 423
        },
        "id": "fz76kiehcSMO",
        "outputId": "82329f45-18fe-41d5-85ac-ca94ff1d6250"
      },
      "execution_count": 8,
      "outputs": [
        {
          "output_type": "execute_result",
          "data": {
            "text/html": [
              "<div>\n",
              "<style scoped>\n",
              "    .dataframe tbody tr th:only-of-type {\n",
              "        vertical-align: middle;\n",
              "    }\n",
              "\n",
              "    .dataframe tbody tr th {\n",
              "        vertical-align: top;\n",
              "    }\n",
              "\n",
              "    .dataframe thead th {\n",
              "        text-align: right;\n",
              "    }\n",
              "</style>\n",
              "<table border=\"1\" class=\"dataframe\">\n",
              "  <thead>\n",
              "    <tr style=\"text-align: right;\">\n",
              "      <th></th>\n",
              "      <th>Industry Type</th>\n",
              "    </tr>\n",
              "  </thead>\n",
              "  <tbody>\n",
              "    <tr>\n",
              "      <th>Walmart</th>\n",
              "      <td>Retail</td>\n",
              "    </tr>\n",
              "    <tr>\n",
              "      <th>Amazon</th>\n",
              "      <td>Retail</td>\n",
              "    </tr>\n",
              "    <tr>\n",
              "      <th>Apple Inc.</th>\n",
              "      <td>Electronics industry</td>\n",
              "    </tr>\n",
              "    <tr>\n",
              "      <th>CVS Health</th>\n",
              "      <td>Healthcare</td>\n",
              "    </tr>\n",
              "    <tr>\n",
              "      <th>ExxonMobil</th>\n",
              "      <td>Petroleum industry</td>\n",
              "    </tr>\n",
              "    <tr>\n",
              "      <th>...</th>\n",
              "      <td>...</td>\n",
              "    </tr>\n",
              "    <tr>\n",
              "      <th>Fannie Mae</th>\n",
              "      <td>Financials</td>\n",
              "    </tr>\n",
              "    <tr>\n",
              "      <th>AT&amp;T</th>\n",
              "      <td>Conglomerate</td>\n",
              "    </tr>\n",
              "    <tr>\n",
              "      <th>UnitedHealth Group</th>\n",
              "      <td>Healthcare</td>\n",
              "    </tr>\n",
              "    <tr>\n",
              "      <th>Comcast</th>\n",
              "      <td>Telecommunications</td>\n",
              "    </tr>\n",
              "    <tr>\n",
              "      <th>Visa Inc.</th>\n",
              "      <td>Financial Service</td>\n",
              "    </tr>\n",
              "  </tbody>\n",
              "</table>\n",
              "<p>520 rows × 1 columns</p>\n",
              "</div>"
            ],
            "text/plain": [
              "                           Industry Type\n",
              "Walmart                           Retail\n",
              "Amazon                            Retail\n",
              "Apple Inc.          Electronics industry\n",
              "CVS Health                    Healthcare\n",
              "ExxonMobil            Petroleum industry\n",
              "...                                  ...\n",
              "Fannie Mae                    Financials\n",
              "AT&T                        Conglomerate\n",
              "UnitedHealth Group            Healthcare\n",
              "Comcast               Telecommunications\n",
              "Visa Inc.              Financial Service\n",
              "\n",
              "[520 rows x 1 columns]"
            ]
          },
          "metadata": {},
          "execution_count": 8
        }
      ]
    },
    {
      "cell_type": "code",
      "source": [
        "df1.to_csv('Final_List_Of_Companies.csv')"
      ],
      "metadata": {
        "id": "9i5mqmXdcTdw"
      },
      "execution_count": 10,
      "outputs": []
    },
    {
      "cell_type": "code",
      "source": [
        "import matplotlib.pyplot as plt\n",
        "x= df1['Industry Type'].value_counts()\n",
        "y = x.to_frame()\n"
      ],
      "metadata": {
        "id": "nbQ1-DZ4dgi_"
      },
      "execution_count": 30,
      "outputs": []
    },
    {
      "cell_type": "code",
      "source": [
        "y.head().plot.bar()"
      ],
      "metadata": {
        "colab": {
          "base_uri": "https://localhost:8080/",
          "height": 367
        },
        "id": "Rx1Tmh6edmNa",
        "outputId": "013a6a5d-bdca-4808-ea9e-e3b365bb3fad"
      },
      "execution_count": 31,
      "outputs": [
        {
          "output_type": "execute_result",
          "data": {
            "text/plain": [
              "<matplotlib.axes._subplots.AxesSubplot at 0x7fe0aaa00390>"
            ]
          },
          "metadata": {},
          "execution_count": 31
        },
        {
          "output_type": "display_data",
          "data": {
            "image/png": "[encoded data removed]",
            "text/plain": [
              "<Figure size 432x288 with 1 Axes>"
            ]
          },
          "metadata": {
            "needs_background": "light"
          }
        }
      ]
    },
    {
      "cell_type": "code",
      "source": [
        "y.head().plot.pie(subplots=True)"
      ],
      "metadata": {
        "colab": {
          "base_uri": "https://localhost:8080/",
          "height": 282
        },
        "id": "OuIP-pD6eep-",
        "outputId": "fb596981-1a4e-471e-bdbb-04ced6c748a4"
      },
      "execution_count": 32,
      "outputs": [
        {
          "output_type": "execute_result",
          "data": {
            "text/plain": [
              "array([<matplotlib.axes._subplots.AxesSubplot object at 0x7fe0aa96d9d0>],\n",
              "      dtype=object)"
            ]
          },
          "metadata": {},
          "execution_count": 32
        },
        {
          "output_type": "display_data",
          "data": {
            "image/png": "[encoded data removed]",
            "text/plain": [
              "<Figure size 432x288 with 1 Axes>"
            ]
          },
          "metadata": {}
        }
      ]
    },
    {
      "cell_type": "code",
      "source": [
        ""
      ],
      "metadata": {
        "id": "4SE3mwNseuwL"
      },
      "execution_count": null,
      "outputs": []
    }
  ]
}